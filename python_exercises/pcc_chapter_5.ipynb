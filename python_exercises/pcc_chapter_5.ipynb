{
 "cells": [
  {
   "cell_type": "markdown",
   "id": "6947da24",
   "metadata": {},
   "source": [
    "## Chapter 5 Homework"
   ]
  },
  {
   "cell_type": "code",
   "execution_count": 1,
   "id": "24fa7f5c",
   "metadata": {},
   "outputs": [
    {
     "name": "stdout",
     "output_type": "stream",
     "text": [
      "Is car == 'subaru'? I predict True.\n",
      "True\n",
      "\n",
      "Is car == 'audi'? I predict False.\n",
      "False\n"
     ]
    }
   ],
   "source": [
    "##5-1\n",
    "car = 'subaru'\n",
    "print(\"Is car == 'subaru'? I predict True.\")\n",
    "print(car == 'subaru')\n",
    "print(\"\\nIs car == 'audi'? I predict False.\")\n",
    "print(car == 'audi')"
   ]
  },
  {
   "cell_type": "code",
   "execution_count": 6,
   "id": "e916e18c",
   "metadata": {},
   "outputs": [
    {
     "name": "stdout",
     "output_type": "stream",
     "text": [
      "Is car == 'subaru'? I predict False.\n",
      "True\n",
      "\n",
      "Is car == 'subaru'? I predict False.\n",
      "True\n"
     ]
    }
   ],
   "source": [
    "##5-2\n",
    "car = 'audi'\n",
    "print(\"Is car == 'subaru'? I predict True.\")\n",
    "print(car != 'subaru')\n",
    "car = 'subaru'\n",
    "print(\"\\nIs car == 'subaru'? I predict True.\")\n",
    "print(car != 'audi')"
   ]
  },
  {
   "cell_type": "code",
   "execution_count": 13,
   "id": "3ce66516",
   "metadata": {},
   "outputs": [
    {
     "name": "stdout",
     "output_type": "stream",
     "text": [
      "You are an adult\n"
     ]
    }
   ],
   "source": [
    "##5-6\n",
    "age = 22\n",
    "\n",
    "if age < 2:\n",
    "    print(\"You are a baby\")\n",
    "elif age < 4:\n",
    "    print(\"You are a toddler\")\n",
    "elif age < 13:\n",
    "    print(\"You are a kid\")\n",
    "elif age < 20:\n",
    "    print(\"You are a teenager\")\n",
    "elif age < 65:\n",
    "    print(\"You are an adult\")\n",
    "elif age > 64:\n",
    "    print(\"You are an elder\")"
   ]
  },
  {
   "cell_type": "code",
   "execution_count": 15,
   "id": "9efffc2c",
   "metadata": {},
   "outputs": [
    {
     "name": "stdout",
     "output_type": "stream",
     "text": [
      "You really like bananas\n",
      "You really like watermelon\n"
     ]
    }
   ],
   "source": [
    "##5-7\n",
    "favorite_fruits = [\"bananas\", \"watermelon\", \"peach\"]\n",
    "\n",
    "if \"apples\" in favorite_fruits:\n",
    "    print(\"You really like apples\")\n",
    "if \"bananas\" in favorite_fruits:\n",
    "    print(\"You really like bananas\")\n",
    "if \"grapes\" in favorite_fruits:\n",
    "    print(\"You really like grapes\")\n",
    "if \"watermelon\" in favorite_fruits:\n",
    "    print(\"You really like watermelon\")\n",
    "if \"strawberry\" in favorite_fruits:\n",
    "    print(\"You really like strawberry\")"
   ]
  },
  {
   "cell_type": "code",
   "execution_count": 20,
   "id": "1b2ad467",
   "metadata": {},
   "outputs": [
    {
     "name": "stdout",
     "output_type": "stream",
     "text": [
      "Hello gabs01, thank you for logging in again.\n",
      "\n",
      "Hello lucas10, thank you for logging in again.\n",
      "\n",
      "Hello admin, would you like to see a status report?\n",
      "\n",
      "Hello jeba05, thank you for logging in again.\n",
      "\n"
     ]
    }
   ],
   "source": [
    "##5-8\n",
    "names = [\"gabs01\", \"lucas10\", \"admin\", \"jeba05\"]\n",
    "\n",
    "for name in names:\n",
    "    if name == \"admin\":\n",
    "        print(\"Hello admin, would you like to see a status report?\\n\")\n",
    "    else:\n",
    "        print(\"Hello \"+name+\", thank you for logging in again.\\n\")"
   ]
  },
  {
   "cell_type": "code",
   "execution_count": 34,
   "id": "01bbe6b5",
   "metadata": {},
   "outputs": [
    {
     "name": "stdout",
     "output_type": "stream",
     "text": [
      "[]\n",
      "We need to find some users!\n"
     ]
    }
   ],
   "source": [
    "##5-9\n",
    "names = []\n",
    "print(names)\n",
    "\n",
    "if names:\n",
    "    for name in names:\n",
    "        print(\"Hello \"+name+\", thank you for logging in again.\\n\")\n",
    "else:\n",
    "    print(\"We need to find some users!\")"
   ]
  },
  {
   "cell_type": "code",
   "execution_count": 35,
   "id": "63cf670e",
   "metadata": {},
   "outputs": [
    {
     "name": "stdout",
     "output_type": "stream",
     "text": [
      "Username gabs01 taken. Enter a new one.\n",
      "Usernamelulu02 available\n",
      "Username iza09 taken. Enter a new one.\n",
      "Usernamebimba13 available\n"
     ]
    }
   ],
   "source": [
    "##5-10\n",
    "current_users = [\"gabs01\", \"lucas10\", \"iza09\", \"jeba05\"]\n",
    "new_users = [\"gabs01\", \"lulu02\", \"iza09\", \"bimba13\"]\n",
    "\n",
    "for x in new_users:\n",
    "    if x in current_users:\n",
    "        print(\"Username \" +x+ \" taken. Enter a new one.\")\n",
    "    else:\n",
    "        print(\"Username\" +x+ \" available\")"
   ]
  },
  {
   "cell_type": "code",
   "execution_count": null,
   "id": "77a28768",
   "metadata": {},
   "outputs": [],
   "source": []
  }
 ],
 "metadata": {
  "kernelspec": {
   "display_name": "Python 3 (ipykernel)",
   "language": "python",
   "name": "python3"
  },
  "language_info": {
   "codemirror_mode": {
    "name": "ipython",
    "version": 3
   },
   "file_extension": ".py",
   "mimetype": "text/x-python",
   "name": "python",
   "nbconvert_exporter": "python",
   "pygments_lexer": "ipython3",
   "version": "3.9.13"
  }
 },
 "nbformat": 4,
 "nbformat_minor": 5
}
