{
 "cells": [
  {
   "cell_type": "markdown",
   "id": "06c0bf90",
   "metadata": {},
   "source": [
    "## Chapter 2 Homework"
   ]
  },
  {
   "cell_type": "code",
   "execution_count": 1,
   "id": "a5419430",
   "metadata": {},
   "outputs": [
    {
     "name": "stdout",
     "output_type": "stream",
     "text": [
      "this is a string\n"
     ]
    }
   ],
   "source": [
    "## 2-1\n",
    "\n",
    "message = \"this is a string\"\n",
    "print(message)"
   ]
  },
  {
   "cell_type": "code",
   "execution_count": 3,
   "id": "3efe7bd0",
   "metadata": {},
   "outputs": [
    {
     "name": "stdout",
     "output_type": "stream",
     "text": [
      "this is also a string\n"
     ]
    }
   ],
   "source": [
    "## 2-2\n",
    "\n",
    "message = \"this is also a string\"\n",
    "print(message)"
   ]
  },
  {
   "cell_type": "code",
   "execution_count": 7,
   "id": "332ae3b0",
   "metadata": {},
   "outputs": [
    {
     "name": "stdout",
     "output_type": "stream",
     "text": [
      "Hello Jason, how are you?\n"
     ]
    }
   ],
   "source": [
    "## 2-3\n",
    "name = \"Jason\"\n",
    "message2 = \"Hello \"+name+\", how are you?\"\n",
    "print(message2)"
   ]
  },
  {
   "cell_type": "code",
   "execution_count": 8,
   "id": "85417155",
   "metadata": {},
   "outputs": [
    {
     "name": "stdout",
     "output_type": "stream",
     "text": [
      "JASON\n",
      "jason\n",
      "Jason\n"
     ]
    }
   ],
   "source": [
    "## 2-4\n",
    "print(name.upper())\n",
    "print(name.lower())\n",
    "print(name.title())"
   ]
  },
  {
   "cell_type": "code",
   "execution_count": 17,
   "id": "df97b5ee",
   "metadata": {},
   "outputs": [
    {
     "name": "stdout",
     "output_type": "stream",
     "text": [
      "Jason once said, 'A person who never did anything, never did it'\n"
     ]
    }
   ],
   "source": [
    "## 2-5\n",
    "quote = \"Jason once said, 'A person who never did anything, never did it'\"\n",
    "print(quote)"
   ]
  },
  {
   "cell_type": "code",
   "execution_count": 18,
   "id": "531b4399",
   "metadata": {},
   "outputs": [
    {
     "name": "stdout",
     "output_type": "stream",
     "text": [
      "Jason once said, 'A person who never did anything, never did it'\n"
     ]
    }
   ],
   "source": [
    "## 2-6\n",
    "quote = name + \" once said, 'A person who never did anything, never did it'\"\n",
    "print(quote)"
   ]
  },
  {
   "cell_type": "code",
   "execution_count": 24,
   "id": "b8b8e79a",
   "metadata": {},
   "outputs": [
    {
     "name": "stdout",
     "output_type": "stream",
     "text": [
      "Jason once said,\n",
      " 'A person who never did anything, never did it'\n",
      "Jason\n",
      "Jason\n",
      "Jason\n"
     ]
    }
   ],
   "source": [
    "##2-7\n",
    "quote = name + \" once said,\\n 'A person who never did anything, never did it'\"\n",
    "print(quote)\n",
    "print(name.lstrip())\n",
    "print(name.rstrip())\n",
    "print(name.strip())"
   ]
  },
  {
   "cell_type": "code",
   "execution_count": 25,
   "id": "2b2d91aa",
   "metadata": {},
   "outputs": [],
   "source": [
    "## 2-10\n",
    "\n",
    "## This is a comment -- just like the others "
   ]
  },
  {
   "cell_type": "markdown",
   "id": "62c7656f",
   "metadata": {},
   "source": [
    "## Chapter 3 Homework"
   ]
  },
  {
   "cell_type": "code",
   "execution_count": 27,
   "id": "336c47d7",
   "metadata": {},
   "outputs": [
    {
     "name": "stdout",
     "output_type": "stream",
     "text": [
      "Lucas\n",
      "Reginald\n",
      "Isaac\n"
     ]
    }
   ],
   "source": [
    "## 3-1\n",
    "friends = \"Lucas\", \"Reginald\", \"Isaac\"\n",
    "print(friends[0])\n",
    "print(friends[1])\n",
    "print(friends[2])"
   ]
  },
  {
   "cell_type": "code",
   "execution_count": 29,
   "id": "ca17c2ae",
   "metadata": {},
   "outputs": [
    {
     "name": "stdout",
     "output_type": "stream",
     "text": [
      "Lucas, you are a great friend!\n",
      "Reginald, you are a great friend!\n",
      "Isaac, you are a great friend!\n"
     ]
    }
   ],
   "source": [
    "##3-2\n",
    "print(friends[0] + \", you are a great friend!\")\n",
    "print(friends[1] + \", you are a great friend!\")\n",
    "print(friends[2] + \", you are a great friend!\")"
   ]
  },
  {
   "cell_type": "code",
   "execution_count": 31,
   "id": "149899d0",
   "metadata": {},
   "outputs": [
    {
     "name": "stdout",
     "output_type": "stream",
     "text": [
      "I like to travel by airplane\n",
      "I own a car\n",
      "It is cheaper to take the train\n"
     ]
    }
   ],
   "source": [
    "##3-3\n",
    "transportation = \"airplane\", \"car\", \"train\"\n",
    "print(\"I like to travel by \" + transportation[0])\n",
    "print(\"I own a \" + transportation[1])\n",
    "print(\"It is cheaper to take the \" + transportation[2])"
   ]
  },
  {
   "cell_type": "code",
   "execution_count": 33,
   "id": "91927036",
   "metadata": {},
   "outputs": [
    {
     "name": "stdout",
     "output_type": "stream",
     "text": [
      "Hi Jesus, you are invited to my party!\n",
      "Hi Beyonce, you are invited to my party!\n",
      "Hi Big Bird, you are invited to my party!\n"
     ]
    }
   ],
   "source": [
    "##3-4\n",
    "people = \"Jesus\", \"Beyonce\", \"Big Bird\"\n",
    "print(\"Hi \"+people[0]+\", you are invited to my party!\")\n",
    "print(\"Hi \"+people[1]+\", you are invited to my party!\")\n",
    "print(\"Hi \"+people[2]+\", you are invited to my party!\")"
   ]
  },
  {
   "cell_type": "code",
   "execution_count": 49,
   "id": "bc089348",
   "metadata": {},
   "outputs": [
    {
     "name": "stdout",
     "output_type": "stream",
     "text": [
      "['Jesus', 'Beyonce', 'Big Bird']\n",
      "['Oprah', 'Beyonce', 'Big Bird']\n",
      "Hi Oprah, you are invited to my party!\n"
     ]
    }
   ],
   "source": [
    "##3-5\n",
    "people = [\"Jesus\", \"Beyonce\", \"Big Bird\"]\n",
    "print(people)\n",
    "people[0] = \"Oprah\"\n",
    "print(people)\n",
    "print(\"Hi \" + people[0] + \", you are invited to my party!\")"
   ]
  },
  {
   "cell_type": "code",
   "execution_count": 50,
   "id": "fa6278dc",
   "metadata": {},
   "outputs": [
    {
     "name": "stdout",
     "output_type": "stream",
     "text": [
      "['Oprah', 'Beyonce', 'Big Bird']\n",
      "['Sunil Kumar', 'Oprah', 'Beyonce', 'Big Bird']\n",
      "['Sunil Kumar', 'Oprah', 'Tony Monaco', 'Beyonce', 'Big Bird']\n",
      "['Sunil Kumar', 'Oprah', 'Tony Monaco', 'Beyonce', 'Big Bird', 'Joe Biden']\n"
     ]
    }
   ],
   "source": [
    "##3-6\n",
    "print(people)\n",
    "people.insert(0, \"Sunil Kumar\")\n",
    "print(people)\n",
    "people.insert(2, \"Tony Monaco\")\n",
    "print(people)\n",
    "people.append(\"Joe Biden\")\n",
    "print(people)"
   ]
  },
  {
   "cell_type": "code",
   "execution_count": 51,
   "id": "fb9c3be7",
   "metadata": {},
   "outputs": [
    {
     "name": "stdout",
     "output_type": "stream",
     "text": [
      "We can only invite two people for dinner\n",
      "['Sunil Kumar', 'Oprah', 'Tony Monaco', 'Beyonce', 'Big Bird', 'Joe Biden']\n",
      "['Sunil Kumar', 'Oprah', 'Tony Monaco', 'Beyonce', 'Big Bird']\n",
      "['Sunil Kumar', 'Oprah', 'Tony Monaco', 'Beyonce']\n",
      "['Sunil Kumar', 'Oprah', 'Tony Monaco']\n",
      "['Sunil Kumar', 'Oprah']\n",
      "Sunil Kumar and Oprah are still invited!\n"
     ]
    }
   ],
   "source": [
    "##3-7\n",
    "print(\"We can only invite two people for dinner\")\n",
    "print(people)\n",
    "people.pop()\n",
    "print(people)\n",
    "people.pop()\n",
    "print(people)\n",
    "people.pop()\n",
    "print(people)\n",
    "people.pop()\n",
    "print(people)\n",
    "print(people[0]+\" and \"+people[1]+\" are still invited!\")"
   ]
  },
  {
   "cell_type": "code",
   "execution_count": 59,
   "id": "7302cc25",
   "metadata": {},
   "outputs": [
    {
     "name": "stdout",
     "output_type": "stream",
     "text": [
      "['London', 'Paris', 'Peru', 'China', 'Japan']\n",
      "['China', 'Japan', 'London', 'Paris', 'Peru']\n",
      "None\n"
     ]
    }
   ],
   "source": [
    "##3-8\n",
    "places = [\"London\", \"Paris\", \"Peru\", \"China\", \"Japan\"]\n",
    "print(places)\n",
    "places = sorted(places)\n",
    "print(places)\n",
    "places = places.reverse()\n",
    "print(places)"
   ]
  },
  {
   "cell_type": "markdown",
   "id": "37e3763b",
   "metadata": {},
   "source": [
    "## Chapter 4 Homework"
   ]
  },
  {
   "cell_type": "code",
   "execution_count": 61,
   "id": "b5f9402c",
   "metadata": {},
   "outputs": [
    {
     "name": "stdout",
     "output_type": "stream",
     "text": [
      "I like pepperoni pizza.\n",
      "I like cheese pizza.\n",
      "I like ham pizza.\n",
      "I really like pizza!\n"
     ]
    }
   ],
   "source": [
    "##4-1\n",
    "pizza = \"pepperoni\", \"cheese\", \"ham\"\n",
    "for x in pizza:\n",
    "    print(\"I like \" + x + \" pizza.\")\n",
    "\n",
    "print(\"I really like pizza!\")"
   ]
  },
  {
   "cell_type": "code",
   "execution_count": 65,
   "id": "f58d1dec",
   "metadata": {},
   "outputs": [
    {
     "name": "stdout",
     "output_type": "stream",
     "text": [
      "dog\n",
      "cat\n",
      "bird\n",
      "\n",
      "\n",
      "A dog would make a good pet.\n",
      "A cat would make a good pet.\n",
      "A bird would make a good pet.\n",
      "Any of these animals would make a good pet!\n"
     ]
    }
   ],
   "source": [
    "##4-2\n",
    "animals = \"dog\", \"cat\", \"bird\"\n",
    "for x in animals:\n",
    "    print(x)\n",
    "print(\"\\n\")\n",
    "for x in animals:\n",
    "    print(\"A \"+x+\" would make a good pet.\")\n",
    "print(\"Any of these animals would make a good pet!\")"
   ]
  },
  {
   "cell_type": "code",
   "execution_count": 66,
   "id": "f480f3e3",
   "metadata": {},
   "outputs": [
    {
     "name": "stdout",
     "output_type": "stream",
     "text": [
      "1\n",
      "2\n",
      "3\n",
      "4\n",
      "5\n",
      "6\n",
      "7\n",
      "8\n",
      "9\n",
      "10\n",
      "11\n",
      "12\n",
      "13\n",
      "14\n",
      "15\n",
      "16\n",
      "17\n",
      "18\n",
      "19\n",
      "20\n"
     ]
    }
   ],
   "source": [
    "##4-3\n",
    "numbers = []\n",
    "for x in range(1,21):\n",
    "    print(x)"
   ]
  },
  {
   "cell_type": "code",
   "execution_count": 67,
   "id": "86382e36",
   "metadata": {},
   "outputs": [
    {
     "name": "stdout",
     "output_type": "stream",
     "text": [
      "1\n",
      "3\n",
      "5\n",
      "7\n",
      "9\n",
      "11\n",
      "13\n",
      "15\n",
      "17\n",
      "19\n"
     ]
    }
   ],
   "source": [
    "##4-6\n",
    "numbers = []\n",
    "for x in range(1,21,2):\n",
    "    print(x)"
   ]
  },
  {
   "cell_type": "code",
   "execution_count": 71,
   "id": "1087c048",
   "metadata": {},
   "outputs": [
    {
     "name": "stdout",
     "output_type": "stream",
     "text": [
      "The first three items in the list are:\n",
      "[1, 2, 3]\n",
      "The last three items in the list are:\n",
      "[8, 9, 10]\n"
     ]
    }
   ],
   "source": [
    "##4-10\n",
    "list1 = [1, 2, 3, 4, 5, 6, 7, 8, 9, 10]\n",
    "\n",
    "print(\"The first three items in the list are:\")\n",
    "print(list1[:3])\n",
    "print(\"The last three items in the list are:\")\n",
    "print(list1[-3:])"
   ]
  },
  {
   "cell_type": "code",
   "execution_count": null,
   "id": "3e61a712",
   "metadata": {},
   "outputs": [],
   "source": []
  }
 ],
 "metadata": {
  "kernelspec": {
   "display_name": "Python 3 (ipykernel)",
   "language": "python",
   "name": "python3"
  },
  "language_info": {
   "codemirror_mode": {
    "name": "ipython",
    "version": 3
   },
   "file_extension": ".py",
   "mimetype": "text/x-python",
   "name": "python",
   "nbconvert_exporter": "python",
   "pygments_lexer": "ipython3",
   "version": "3.9.13"
  }
 },
 "nbformat": 4,
 "nbformat_minor": 5
}
