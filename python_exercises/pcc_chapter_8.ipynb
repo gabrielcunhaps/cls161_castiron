{
 "cells": [
  {
   "cell_type": "markdown",
   "id": "9a23ac6e",
   "metadata": {},
   "source": [
    "## Chapter 8"
   ]
  },
  {
   "cell_type": "code",
   "execution_count": 1,
   "id": "0bdba053",
   "metadata": {},
   "outputs": [
    {
     "name": "stdout",
     "output_type": "stream",
     "text": [
      "I am learning Python\n"
     ]
    }
   ],
   "source": [
    "## 8-1\n",
    "\n",
    "def display_message():\n",
    "    print(\"I am learning Python\")\n",
    "    \n",
    "display_message()"
   ]
  },
  {
   "cell_type": "code",
   "execution_count": 6,
   "id": "579684ce",
   "metadata": {},
   "outputs": [
    {
     "name": "stdout",
     "output_type": "stream",
     "text": [
      "One of my favorite books is Harry Potter\n"
     ]
    }
   ],
   "source": [
    "## 8-2\n",
    "\n",
    "def favorite_book(book):\n",
    "    print(\"One of my favorite books is \" + book)\n",
    "    \n",
    "favorite_book(\"Harry Potter\")"
   ]
  },
  {
   "cell_type": "code",
   "execution_count": 7,
   "id": "fe346906",
   "metadata": {},
   "outputs": [
    {
     "name": "stdout",
     "output_type": "stream",
     "text": [
      "Your t-shirt of size M has the message: I like ice cream\n"
     ]
    }
   ],
   "source": [
    "## 8-3\n",
    "\n",
    "def make_shirt(size, text):\n",
    "    print(\"Your t-shirt of size \" + size + \" has the message: \" + text)\n",
    "\n",
    "make_shirt(\"M\", \"I like ice cream\")"
   ]
  },
  {
   "cell_type": "code",
   "execution_count": 8,
   "id": "eb59d0b7",
   "metadata": {},
   "outputs": [
    {
     "name": "stdout",
     "output_type": "stream",
     "text": [
      "São Paulo is in Brazil\n",
      "New York is in United States\n",
      "Paris is in France\n"
     ]
    }
   ],
   "source": [
    "## 8-5\n",
    "\n",
    "def describe_city(city, country=\"United States\"):\n",
    "    print(city + \" is in \" + country)\n",
    "\n",
    "describe_city(\"São Paulo\", \"Brazil\")\n",
    "describe_city(\"New York\")\n",
    "describe_city(\"Paris\", \"France\")"
   ]
  },
  {
   "cell_type": "code",
   "execution_count": 9,
   "id": "cdf13d5b",
   "metadata": {},
   "outputs": [
    {
     "name": "stdout",
     "output_type": "stream",
     "text": [
      "São Paulo, Brazil\n",
      "Paris, France\n"
     ]
    }
   ],
   "source": [
    "## 8-6\n",
    "\n",
    "def city_country(city, country):\n",
    "    return f\"{city}, {country}\"\n",
    "\n",
    "location1 = city_country(\"São Paulo\", \"Brazil\")\n",
    "location2 = city_country(\"Paris\", \"France\")\n",
    "\n",
    "print(location1)\n",
    "print(location2)"
   ]
  },
  {
   "cell_type": "code",
   "execution_count": null,
   "id": "e816e5ee",
   "metadata": {},
   "outputs": [],
   "source": []
  }
 ],
 "metadata": {
  "kernelspec": {
   "display_name": "Python 3 (ipykernel)",
   "language": "python",
   "name": "python3"
  },
  "language_info": {
   "codemirror_mode": {
    "name": "ipython",
    "version": 3
   },
   "file_extension": ".py",
   "mimetype": "text/x-python",
   "name": "python",
   "nbconvert_exporter": "python",
   "pygments_lexer": "ipython3",
   "version": "3.9.13"
  }
 },
 "nbformat": 4,
 "nbformat_minor": 5
}
