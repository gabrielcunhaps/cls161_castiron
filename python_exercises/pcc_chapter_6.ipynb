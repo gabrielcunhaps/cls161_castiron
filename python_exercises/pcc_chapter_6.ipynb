{
 "cells": [
  {
   "cell_type": "markdown",
   "id": "cd518369",
   "metadata": {},
   "source": [
    "## Chapter 6 Homework"
   ]
  },
  {
   "cell_type": "code",
   "execution_count": 5,
   "id": "639a376c",
   "metadata": {},
   "outputs": [
    {
     "name": "stdout",
     "output_type": "stream",
     "text": [
      "{'first_name': 'gabriel', 'last_name': 'cunha', 'city': 'boston'}\n"
     ]
    }
   ],
   "source": [
    "## 6-1\n",
    "\n",
    "gabriel = {\"first_name\": \"gabriel\", \"last_name\":\"cunha\",\"city\":\"boston\"}\n",
    "\n",
    "print(gabriel)"
   ]
  },
  {
   "cell_type": "code",
   "execution_count": 8,
   "id": "fb0b65f4",
   "metadata": {},
   "outputs": [
    {
     "name": "stdout",
     "output_type": "stream",
     "text": [
      "3\n",
      "5\n",
      "9\n"
     ]
    }
   ],
   "source": [
    "## 6-2\n",
    "\n",
    "numbers = {\"gabriel\": 3, \"jason\": 5,\"isaac\": 9}\n",
    "\n",
    "print(numbers[\"gabriel\"])\n",
    "print(numbers[\"jason\"])\n",
    "print(numbers[\"isaac\"])"
   ]
  },
  {
   "cell_type": "code",
   "execution_count": 15,
   "id": "5c33982b",
   "metadata": {},
   "outputs": [
    {
     "name": "stdout",
     "output_type": "stream",
     "text": [
      "('variable', 'element that stores data')\n",
      "\n",
      "('function', 'reusable block of code')\n",
      "\n",
      "('loop', 'block of code that repeats itself')\n",
      "\n"
     ]
    }
   ],
   "source": [
    "## 6-3 and 6-4\n",
    "\n",
    "glossary = {\"variable\": \"element that stores data\",\n",
    "       \"function\": \"reusable block of code\",\n",
    "       \"loop\": \"block of code that repeats itself\"\n",
    "       }\n",
    "\n",
    "for word in glossary.items():\n",
    "    print(word)\n",
    "    print()"
   ]
  },
  {
   "cell_type": "code",
   "execution_count": 20,
   "id": "6c9a812d",
   "metadata": {},
   "outputs": [
    {
     "name": "stdout",
     "output_type": "stream",
     "text": [
      "The Nile runs through Egypt\n",
      "The Amazon runs through Brazil\n",
      "The Mississippi runs through USA\n"
     ]
    }
   ],
   "source": [
    "## 6-5\n",
    "\n",
    "rivers = {\"Nile\":\"Egypt\",\"Amazon\":\"Brazil\",\"Mississippi\":\"USA\"}\n",
    "\n",
    "for river, country in rivers.items():\n",
    "    print(\"The \"+river+\" runs through \"+country)"
   ]
  },
  {
   "cell_type": "code",
   "execution_count": 23,
   "id": "bebade44",
   "metadata": {},
   "outputs": [
    {
     "name": "stdout",
     "output_type": "stream",
     "text": [
      "Type: dog\n",
      "Owner: Jorge\n",
      "Type: cat\n",
      "Owner: Gabriel\n",
      "Type: capybara\n",
      "Owner: Pedro\n"
     ]
    }
   ],
   "source": [
    "## 6-8\n",
    "\n",
    "rex = {\"type\": \"dog\", \"owner\": \"Jorge\"}\n",
    "beepus = {\"type\": \"cat\", \"owner\": \"Gabriel\"}\n",
    "willy = {\"type\": \"capybara\", \"owner\": \"Pedro\"}\n",
    "\n",
    "pets = rex, beepus, willy\n",
    "\n",
    "for pet in pets:\n",
    "    print(\"Type:\", pet['type'])\n",
    "    print(\"Owner:\", pet['owner'])"
   ]
  },
  {
   "cell_type": "code",
   "execution_count": 29,
   "id": "e13a7239",
   "metadata": {},
   "outputs": [
    {
     "name": "stdout",
     "output_type": "stream",
     "text": [
      "Gabriel: \n",
      "Paris\n",
      "New York\n",
      "\n",
      "Jason: \n",
      "London\n",
      "Toronto\n",
      "\n",
      "Regi: \n",
      "San Francisco\n",
      "Boston\n",
      "\n"
     ]
    }
   ],
   "source": [
    "## 6-9\n",
    "\n",
    "favorite_places = { 'Gabriel': ['Paris', 'New York'], 'Jason': ['London', 'Toronto'], 'Regi': ['San Francisco', 'Boston']}\n",
    "\n",
    "for person, places in favorite_places.items():\n",
    "    print(person + \": \")\n",
    "    for place in places:\n",
    "        print(place)\n",
    "    print()"
   ]
  },
  {
   "cell_type": "code",
   "execution_count": null,
   "id": "e76d883a",
   "metadata": {},
   "outputs": [],
   "source": []
  }
 ],
 "metadata": {
  "kernelspec": {
   "display_name": "Python 3 (ipykernel)",
   "language": "python",
   "name": "python3"
  },
  "language_info": {
   "codemirror_mode": {
    "name": "ipython",
    "version": 3
   },
   "file_extension": ".py",
   "mimetype": "text/x-python",
   "name": "python",
   "nbconvert_exporter": "python",
   "pygments_lexer": "ipython3",
   "version": "3.9.13"
  }
 },
 "nbformat": 4,
 "nbformat_minor": 5
}
